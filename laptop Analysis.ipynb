{
 "cells": [
  {
   "cell_type": "markdown",
   "id": "18f2cc5e",
   "metadata": {},
   "source": [
    "# Import Libraries"
   ]
  },
  {
   "cell_type": "code",
   "execution_count": 1,
   "id": "bf716cde",
   "metadata": {},
   "outputs": [],
   "source": [
    "import requests\n",
    "from bs4 import BeautifulSoup\n",
    "import re\n",
    "import numpy as np\n",
    "import pandas as pd\n",
    "import matplotlib.pyplot as plt\n",
    "import seaborn as sns\n",
    "import warnings\n",
    "warnings.filterwarnings('ignore')\n",
    "import Mymodule"
   ]
  },
  {
   "cell_type": "markdown",
   "id": "97780968",
   "metadata": {},
   "source": [
    "# Web Scraping"
   ]
  },
  {
   "cell_type": "code",
   "execution_count": 2,
   "id": "4fde41ba",
   "metadata": {},
   "outputs": [
    {
     "name": "stdout",
     "output_type": "stream",
     "text": [
      "https://flipkart.com/search?q=laptop+under+20000&sid=6bo%2Cb5g&as=on&as-show=on&otracker=AS_QueryStore_OrganicAutoSuggest_2_13_na_na_na&otracker1=AS_QueryStore_OrganicAutoSuggest_2_13_na_na_na&as-pos=2&as-type=RECENT&suggestionId=laptop+under+20000%7CLaptops&requestId=391506f8-dfb9-4bb7-8fea-8cdec70a9443&as-searchtext=laptop+under+&page=1\n"
     ]
    }
   ],
   "source": [
    "url = 'https://www.flipkart.com/search?q=laptop+under+20000&sid=6bo%2Cb5g&as=on&as-show=on&otracker=AS_QueryStore_OrganicAutoSuggest_2_13_na_na_na&otracker1=AS_QueryStore_OrganicAutoSuggest_2_13_na_na_na&as-pos=2&as-type=RECENT&suggestionId=laptop+under+20000%7CLaptops&requestId=391506f8-dfb9-4bb7-8fea-8cdec70a9443&as-searchtext=laptop%20under%20'\n",
    "r = requests.get(url)\n",
    "soup = BeautifulSoup(r.text, 'lxml')\n",
    "page_link = soup.find('a', class_='ge-49M _2Kfbh8').get('href')\n",
    "chage_link = 'https://flipkart.com'+page_link\n",
    "print(chage_link)"
   ]
  },
  {
   "cell_type": "markdown",
   "id": "66664bfd",
   "metadata": {},
   "source": [
    "<b>Collecting Information about laptop under Rs. 20000 From FlipKart And Creating Dataset</b>"
   ]
  },
  {
   "cell_type": "code",
   "execution_count": 3,
   "id": "7c880584",
   "metadata": {
    "scrolled": false
   },
   "outputs": [
    {
     "name": "stdout",
     "output_type": "stream",
     "text": [
      "SucessFully Created Dataset\n"
     ]
    }
   ],
   "source": [
    "product_name = []\n",
    "prices = []\n",
    "totals = []\n",
    "offer = []\n",
    "rating = []\n",
    "processor = []\n",
    "description = []\n",
    "\n",
    "for i in range(1, 51):\n",
    "    url = f\"{chage_link[:-1]}{i}\"\n",
    "    r = requests.get(url)\n",
    "    soup = BeautifulSoup(r.text, 'lxml')\n",
    "    box = soup.find('div', class_='_1YokD2 _3Mn1Gg')\n",
    "    product_details = box.find_all('div', class_='_3pLy-c row')\n",
    "    \n",
    "    for detail in product_details:\n",
    "        name = detail.find('div', class_='_4rR01T')\n",
    "        if name is not None:\n",
    "            product_name.append(name.text)\n",
    "        else:\n",
    "            product_name.append('N/A')\n",
    "            \n",
    "        price = detail.find('div', class_='_30jeq3 _1_WHN1')\n",
    "        if price is not None:\n",
    "            prices.append(price.text)\n",
    "        else:\n",
    "            prices.append('N/A')\n",
    "            \n",
    "        total = detail.find('div', class_='_3I9_wc _27UcVY')\n",
    "        if total is not None:\n",
    "            totals.append(total.text)\n",
    "        else:\n",
    "            totals.append('N/A')\n",
    "            \n",
    "        off = detail.find('div', class_='_3Ay6Sb')\n",
    "        if off is not None:\n",
    "            off_span = off.find('span')\n",
    "            if off_span is not None:\n",
    "                offer.append(off_span.text)\n",
    "            else:\n",
    "                offer.append('N/A')\n",
    "        else:\n",
    "            offer.append('N/A')\n",
    "            \n",
    "        rate = detail.find('div', class_='_3LWZlK')\n",
    "        if rate is not None:\n",
    "            rating.append(rate.text)\n",
    "        else:\n",
    "            rating.append('N/A')\n",
    "        \n",
    "        pro = detail.find('li', class_='rgWa7D')\n",
    "        if pro is not None:\n",
    "            processor.append(pro.text)\n",
    "        else:\n",
    "            processor.append('N/A')\n",
    "            \n",
    "        desc = detail.find('ul', class_='_1xgFaf')\n",
    "        if desc is not None:\n",
    "            description.append(desc.text)\n",
    "        else:\n",
    "            description.append('N/A')\n",
    "\n",
    "if len(product_name) == len(prices) == len(totals) == len(offer) == len(rating) == len(processor) == len(description):\n",
    "    # convert datafram\n",
    "    df = pd.DataFrame({\"Product_Name\":product_name,\"Total\":totals,\"Selling_Price\":prices,\"Offer\":offer,\"Ratings\":rating,\"Processor\":processor,\"Description\":description})\n",
    "    # convert csv file and save file in memory\n",
    "    df.to_csv('laptop_under_20000.csv', index=False)\n",
    "    \n",
    "    # Display Message\n",
    "    print('SucessFully Created Dataset')\n",
    "else:\n",
    "    print('-----------Arrays are not equals.--------------')\n",
    "    print(\"Length of Product Name:\", len(product_name))\n",
    "    print(\"Length of Selling Price:\", len(prices))\n",
    "    print(\"Length of Total:\", len(totals))\n",
    "    print(\"Length of Offers:\", len(offer))\n",
    "    print(\"Length of Rating:\", len(rating))\n",
    "    print(\"Length of Processor:\", len(processor))\n",
    "    print(\"Length of Description:\", len(description))"
   ]
  },
  {
   "cell_type": "markdown",
   "id": "11ca8cec",
   "metadata": {},
   "source": [
    "# Explore data"
   ]
  },
  {
   "cell_type": "code",
   "execution_count": 4,
   "id": "55b37f27",
   "metadata": {},
   "outputs": [
    {
     "data": {
      "text/html": [
       "<div>\n",
       "<style scoped>\n",
       "    .dataframe tbody tr th:only-of-type {\n",
       "        vertical-align: middle;\n",
       "    }\n",
       "\n",
       "    .dataframe tbody tr th {\n",
       "        vertical-align: top;\n",
       "    }\n",
       "\n",
       "    .dataframe thead th {\n",
       "        text-align: right;\n",
       "    }\n",
       "</style>\n",
       "<table border=\"1\" class=\"dataframe\">\n",
       "  <thead>\n",
       "    <tr style=\"text-align: right;\">\n",
       "      <th></th>\n",
       "      <th>Product_Name</th>\n",
       "      <th>Total</th>\n",
       "      <th>Selling_Price</th>\n",
       "      <th>Offer</th>\n",
       "      <th>Ratings</th>\n",
       "      <th>Processor</th>\n",
       "      <th>Description</th>\n",
       "    </tr>\n",
       "  </thead>\n",
       "  <tbody>\n",
       "    <tr>\n",
       "      <th>0</th>\n",
       "      <td>Lenovo Slim 3 Chromebook Touch Intel Celeron D...</td>\n",
       "      <td>₹39,990</td>\n",
       "      <td>₹18,990</td>\n",
       "      <td>52% off</td>\n",
       "      <td>3.7</td>\n",
       "      <td>Intel Celeron Dual Core Processor</td>\n",
       "      <td>Intel Celeron Dual Core Processor4 GB LPDDR4 R...</td>\n",
       "    </tr>\n",
       "    <tr>\n",
       "      <th>1</th>\n",
       "      <td>Infinix Y1 Plus Neo (2023) Celeron Quad Core 1...</td>\n",
       "      <td>₹29,990</td>\n",
       "      <td>₹20,990</td>\n",
       "      <td>30% off</td>\n",
       "      <td>4.1</td>\n",
       "      <td>Intel Celeron Quad Core Processor (11th Gen)</td>\n",
       "      <td>Intel Celeron Quad Core Processor (11th Gen)4 ...</td>\n",
       "    </tr>\n",
       "    <tr>\n",
       "      <th>2</th>\n",
       "      <td>Lenovo Athlon Dual Core 3050U - (4 GB/256 GB S...</td>\n",
       "      <td>₹35,000</td>\n",
       "      <td>₹18,999</td>\n",
       "      <td>45% off</td>\n",
       "      <td>N/A</td>\n",
       "      <td>AMD Athlon Dual Core Processor</td>\n",
       "      <td>AMD Athlon Dual Core Processor4 GB DDR4 RAMWin...</td>\n",
       "    </tr>\n",
       "    <tr>\n",
       "      <th>3</th>\n",
       "      <td>Lenovo Athlon Dual Core 3050U - (4 GB/256 GB S...</td>\n",
       "      <td>₹37,450</td>\n",
       "      <td>₹17,490</td>\n",
       "      <td>53% off</td>\n",
       "      <td>3.6</td>\n",
       "      <td>AMD Athlon Dual Core Processor</td>\n",
       "      <td>AMD Athlon Dual Core Processor4 GB DDR4 RAMDOS...</td>\n",
       "    </tr>\n",
       "    <tr>\n",
       "      <th>4</th>\n",
       "      <td>Lenovo Athlon Dual Core - (4 GB/256 GB SSD/DOS...</td>\n",
       "      <td>₹38,000</td>\n",
       "      <td>₹18,049</td>\n",
       "      <td>52% off</td>\n",
       "      <td>N/A</td>\n",
       "      <td>AMD Athlon Dual Core Processor</td>\n",
       "      <td>AMD Athlon Dual Core Processor4 GB DDR4 RAMDOS...</td>\n",
       "    </tr>\n",
       "  </tbody>\n",
       "</table>\n",
       "</div>"
      ],
      "text/plain": [
       "                                        Product_Name    Total Selling_Price  \\\n",
       "0  Lenovo Slim 3 Chromebook Touch Intel Celeron D...  ₹39,990       ₹18,990   \n",
       "1  Infinix Y1 Plus Neo (2023) Celeron Quad Core 1...  ₹29,990       ₹20,990   \n",
       "2  Lenovo Athlon Dual Core 3050U - (4 GB/256 GB S...  ₹35,000       ₹18,999   \n",
       "3  Lenovo Athlon Dual Core 3050U - (4 GB/256 GB S...  ₹37,450       ₹17,490   \n",
       "4  Lenovo Athlon Dual Core - (4 GB/256 GB SSD/DOS...  ₹38,000       ₹18,049   \n",
       "\n",
       "     Offer Ratings                                     Processor  \\\n",
       "0  52% off     3.7             Intel Celeron Dual Core Processor   \n",
       "1  30% off     4.1  Intel Celeron Quad Core Processor (11th Gen)   \n",
       "2  45% off     N/A                AMD Athlon Dual Core Processor   \n",
       "3  53% off     3.6                AMD Athlon Dual Core Processor   \n",
       "4  52% off     N/A                AMD Athlon Dual Core Processor   \n",
       "\n",
       "                                         Description  \n",
       "0  Intel Celeron Dual Core Processor4 GB LPDDR4 R...  \n",
       "1  Intel Celeron Quad Core Processor (11th Gen)4 ...  \n",
       "2  AMD Athlon Dual Core Processor4 GB DDR4 RAMWin...  \n",
       "3  AMD Athlon Dual Core Processor4 GB DDR4 RAMDOS...  \n",
       "4  AMD Athlon Dual Core Processor4 GB DDR4 RAMDOS...  "
      ]
     },
     "execution_count": 4,
     "metadata": {},
     "output_type": "execute_result"
    }
   ],
   "source": [
    "df.head()"
   ]
  },
  {
   "cell_type": "code",
   "execution_count": 5,
   "id": "3b7de868",
   "metadata": {},
   "outputs": [
    {
     "data": {
      "text/plain": [
       "(984, 7)"
      ]
     },
     "execution_count": 5,
     "metadata": {},
     "output_type": "execute_result"
    }
   ],
   "source": [
    "df.shape"
   ]
  },
  {
   "cell_type": "code",
   "execution_count": 6,
   "id": "5978f6de",
   "metadata": {},
   "outputs": [
    {
     "name": "stdout",
     "output_type": "stream",
     "text": [
      "<class 'pandas.core.frame.DataFrame'>\n",
      "RangeIndex: 984 entries, 0 to 983\n",
      "Data columns (total 7 columns):\n",
      " #   Column         Non-Null Count  Dtype \n",
      "---  ------         --------------  ----- \n",
      " 0   Product_Name   984 non-null    object\n",
      " 1   Total          984 non-null    object\n",
      " 2   Selling_Price  984 non-null    object\n",
      " 3   Offer          984 non-null    object\n",
      " 4   Ratings        984 non-null    object\n",
      " 5   Processor      984 non-null    object\n",
      " 6   Description    984 non-null    object\n",
      "dtypes: object(7)\n",
      "memory usage: 53.9+ KB\n"
     ]
    }
   ],
   "source": [
    "df.info()"
   ]
  },
  {
   "cell_type": "markdown",
   "id": "bb6adbd9",
   "metadata": {},
   "source": [
    "# Exploratory Data Analysis and Data Cleaning"
   ]
  },
  {
   "cell_type": "code",
   "execution_count": 7,
   "id": "313186ce",
   "metadata": {},
   "outputs": [],
   "source": [
    "# replace 'N/A' to np.nan\n",
    "df.replace('N/A', np.nan, inplace=True)"
   ]
  },
  {
   "cell_type": "code",
   "execution_count": 8,
   "id": "86cc80b8",
   "metadata": {},
   "outputs": [
    {
     "data": {
      "text/plain": [
       "Product_Name       0\n",
       "Total             66\n",
       "Selling_Price      0\n",
       "Offer             69\n",
       "Ratings          433\n",
       "Processor          0\n",
       "Description        0\n",
       "dtype: int64"
      ]
     },
     "execution_count": 8,
     "metadata": {},
     "output_type": "execute_result"
    }
   ],
   "source": [
    "df.isnull().sum()"
   ]
  },
  {
   "cell_type": "code",
   "execution_count": 9,
   "id": "0d54fc22",
   "metadata": {},
   "outputs": [],
   "source": [
    "df.dropna(subset=['Total','Selling_Price','Offer'], inplace=True, axis=0)"
   ]
  },
  {
   "cell_type": "code",
   "execution_count": 10,
   "id": "d95e7ab5",
   "metadata": {},
   "outputs": [],
   "source": [
    "df['Total'] = df['Total'].str.replace('₹', '').str.replace(',', '').astype('int')\n",
    "df['Selling_Price'] = df['Selling_Price'].str.replace('₹', '').str.replace(',', '').astype('int')\n",
    "df['Offer'] = df['Offer'].str.replace('off', '')"
   ]
  },
  {
   "cell_type": "code",
   "execution_count": 11,
   "id": "383fc5f4",
   "metadata": {},
   "outputs": [],
   "source": [
    "avg_rating = round(df['Ratings'].astype('float').mean(),1)\n",
    "df['Ratings'].fillna(avg_rating, inplace=True)\n",
    "df['Ratings'] = df['Ratings'].astype('float')"
   ]
  },
  {
   "cell_type": "code",
   "execution_count": 12,
   "id": "b45d8fd3",
   "metadata": {},
   "outputs": [],
   "source": [
    "df['RAM'] = df['Description'].str.extract(r'(\\d+\\s*GB)')"
   ]
  },
  {
   "cell_type": "code",
   "execution_count": 13,
   "id": "1ff02fec",
   "metadata": {},
   "outputs": [],
   "source": [
    "df['Product_Name'] = df['Product_Name'].str.split('-')\n",
    "df['Product_Name'] = df['Product_Name'].str.get(0)"
   ]
  },
  {
   "cell_type": "code",
   "execution_count": 14,
   "id": "e466ff67",
   "metadata": {},
   "outputs": [],
   "source": [
    "df['Brand'] = df['Product_Name'].str.split()\n",
    "df['Brand'] = df['Brand'].str.get(0)"
   ]
  },
  {
   "cell_type": "code",
   "execution_count": 15,
   "id": "81d00070",
   "metadata": {},
   "outputs": [],
   "source": [
    "df['Processor_Brand'] = df['Processor'].str.split()\n",
    "df['Processor_Brand'] = df['Processor_Brand'].str.get(0)"
   ]
  },
  {
   "cell_type": "code",
   "execution_count": 16,
   "id": "250b8848",
   "metadata": {},
   "outputs": [],
   "source": [
    "df = df[['Product_Name','Brand','RAM','Offer','Ratings','Selling_Price','Total','Processor_Brand','Processor']]"
   ]
  },
  {
   "cell_type": "code",
   "execution_count": 17,
   "id": "1554b7b0",
   "metadata": {},
   "outputs": [
    {
     "data": {
      "text/plain": [
       "Product_Name       0\n",
       "Brand              0\n",
       "RAM                0\n",
       "Offer              0\n",
       "Ratings            0\n",
       "Selling_Price      0\n",
       "Total              0\n",
       "Processor_Brand    0\n",
       "Processor          0\n",
       "dtype: int64"
      ]
     },
     "execution_count": 17,
     "metadata": {},
     "output_type": "execute_result"
    }
   ],
   "source": [
    "df.isnull().sum()"
   ]
  },
  {
   "cell_type": "code",
   "execution_count": 18,
   "id": "4167fe10",
   "metadata": {},
   "outputs": [
    {
     "name": "stdout",
     "output_type": "stream",
     "text": [
      "<class 'pandas.core.frame.DataFrame'>\n",
      "Int64Index: 915 entries, 0 to 983\n",
      "Data columns (total 9 columns):\n",
      " #   Column           Non-Null Count  Dtype  \n",
      "---  ------           --------------  -----  \n",
      " 0   Product_Name     915 non-null    object \n",
      " 1   Brand            915 non-null    object \n",
      " 2   RAM              915 non-null    object \n",
      " 3   Offer            915 non-null    object \n",
      " 4   Ratings          915 non-null    float64\n",
      " 5   Selling_Price    915 non-null    int32  \n",
      " 6   Total            915 non-null    int32  \n",
      " 7   Processor_Brand  915 non-null    object \n",
      " 8   Processor        915 non-null    object \n",
      "dtypes: float64(1), int32(2), object(6)\n",
      "memory usage: 64.3+ KB\n"
     ]
    }
   ],
   "source": [
    "df.info()"
   ]
  },
  {
   "cell_type": "code",
   "execution_count": 19,
   "id": "bc1c80d3",
   "metadata": {},
   "outputs": [],
   "source": [
    "# save clean dataset into csv\n",
    "df.to_csv('Clean dataset laptop under 20000.csv', index=False)"
   ]
  },
  {
   "cell_type": "code",
   "execution_count": 20,
   "id": "bf33c2c2",
   "metadata": {},
   "outputs": [
    {
     "data": {
      "text/html": [
       "<div>\n",
       "<style scoped>\n",
       "    .dataframe tbody tr th:only-of-type {\n",
       "        vertical-align: middle;\n",
       "    }\n",
       "\n",
       "    .dataframe tbody tr th {\n",
       "        vertical-align: top;\n",
       "    }\n",
       "\n",
       "    .dataframe thead th {\n",
       "        text-align: right;\n",
       "    }\n",
       "</style>\n",
       "<table border=\"1\" class=\"dataframe\">\n",
       "  <thead>\n",
       "    <tr style=\"text-align: right;\">\n",
       "      <th></th>\n",
       "      <th>Product_Name</th>\n",
       "      <th>Brand</th>\n",
       "      <th>RAM</th>\n",
       "      <th>Offer</th>\n",
       "      <th>Ratings</th>\n",
       "      <th>Selling_Price</th>\n",
       "      <th>Total</th>\n",
       "      <th>Processor_Brand</th>\n",
       "      <th>Processor</th>\n",
       "    </tr>\n",
       "  </thead>\n",
       "  <tbody>\n",
       "    <tr>\n",
       "      <th>0</th>\n",
       "      <td>Lenovo Slim 3 Chromebook Touch Intel Celeron D...</td>\n",
       "      <td>Lenovo</td>\n",
       "      <td>4 GB</td>\n",
       "      <td>52%</td>\n",
       "      <td>3.7</td>\n",
       "      <td>18990</td>\n",
       "      <td>39990</td>\n",
       "      <td>Intel</td>\n",
       "      <td>Intel Celeron Dual Core Processor</td>\n",
       "    </tr>\n",
       "    <tr>\n",
       "      <th>1</th>\n",
       "      <td>Infinix Y1 Plus Neo (2023) Celeron Quad Core 1...</td>\n",
       "      <td>Infinix</td>\n",
       "      <td>4 GB</td>\n",
       "      <td>30%</td>\n",
       "      <td>4.1</td>\n",
       "      <td>20990</td>\n",
       "      <td>29990</td>\n",
       "      <td>Intel</td>\n",
       "      <td>Intel Celeron Quad Core Processor (11th Gen)</td>\n",
       "    </tr>\n",
       "    <tr>\n",
       "      <th>2</th>\n",
       "      <td>Lenovo Athlon Dual Core 3050U</td>\n",
       "      <td>Lenovo</td>\n",
       "      <td>4 GB</td>\n",
       "      <td>45%</td>\n",
       "      <td>4.2</td>\n",
       "      <td>18999</td>\n",
       "      <td>35000</td>\n",
       "      <td>AMD</td>\n",
       "      <td>AMD Athlon Dual Core Processor</td>\n",
       "    </tr>\n",
       "    <tr>\n",
       "      <th>3</th>\n",
       "      <td>Lenovo Athlon Dual Core 3050U</td>\n",
       "      <td>Lenovo</td>\n",
       "      <td>4 GB</td>\n",
       "      <td>53%</td>\n",
       "      <td>3.6</td>\n",
       "      <td>17490</td>\n",
       "      <td>37450</td>\n",
       "      <td>AMD</td>\n",
       "      <td>AMD Athlon Dual Core Processor</td>\n",
       "    </tr>\n",
       "    <tr>\n",
       "      <th>4</th>\n",
       "      <td>Lenovo Athlon Dual Core</td>\n",
       "      <td>Lenovo</td>\n",
       "      <td>4 GB</td>\n",
       "      <td>52%</td>\n",
       "      <td>4.2</td>\n",
       "      <td>18049</td>\n",
       "      <td>38000</td>\n",
       "      <td>AMD</td>\n",
       "      <td>AMD Athlon Dual Core Processor</td>\n",
       "    </tr>\n",
       "  </tbody>\n",
       "</table>\n",
       "</div>"
      ],
      "text/plain": [
       "                                        Product_Name    Brand   RAM Offer  \\\n",
       "0  Lenovo Slim 3 Chromebook Touch Intel Celeron D...   Lenovo  4 GB  52%    \n",
       "1  Infinix Y1 Plus Neo (2023) Celeron Quad Core 1...  Infinix  4 GB  30%    \n",
       "2                     Lenovo Athlon Dual Core 3050U    Lenovo  4 GB  45%    \n",
       "3                     Lenovo Athlon Dual Core 3050U    Lenovo  4 GB  53%    \n",
       "4                           Lenovo Athlon Dual Core    Lenovo  4 GB  52%    \n",
       "\n",
       "   Ratings  Selling_Price  Total Processor_Brand  \\\n",
       "0      3.7          18990  39990           Intel   \n",
       "1      4.1          20990  29990           Intel   \n",
       "2      4.2          18999  35000             AMD   \n",
       "3      3.6          17490  37450             AMD   \n",
       "4      4.2          18049  38000             AMD   \n",
       "\n",
       "                                      Processor  \n",
       "0             Intel Celeron Dual Core Processor  \n",
       "1  Intel Celeron Quad Core Processor (11th Gen)  \n",
       "2                AMD Athlon Dual Core Processor  \n",
       "3                AMD Athlon Dual Core Processor  \n",
       "4                AMD Athlon Dual Core Processor  "
      ]
     },
     "execution_count": 20,
     "metadata": {},
     "output_type": "execute_result"
    }
   ],
   "source": [
    "# see clean dataset\n",
    "df.head()"
   ]
  },
  {
   "cell_type": "markdown",
   "id": "8eeb8ef0",
   "metadata": {},
   "source": [
    "# Data Analysis and Visulizations"
   ]
  },
  {
   "cell_type": "markdown",
   "id": "f2a2e9a3",
   "metadata": {},
   "source": [
    "Total Laptop"
   ]
  },
  {
   "cell_type": "code",
   "execution_count": 22,
   "id": "26bd4809",
   "metadata": {},
   "outputs": [
    {
     "name": "stdout",
     "output_type": "stream",
     "text": [
      "+----------------------------+\n",
      "| Total laptops are: 398pcs. |\n",
      "+----------------------------+\n"
     ]
    }
   ],
   "source": [
    "Mymodule.design_text(f\"Total laptops are: {len(df['Product_Name'].unique())}pcs.\")"
   ]
  },
  {
   "cell_type": "code",
   "execution_count": 23,
   "id": "7392cd02",
   "metadata": {},
   "outputs": [
    {
     "data": {
      "image/png": "[encoded data removed]",
      "text/plain": [
       "<Figure size 640x480 with 1 Axes>"
      ]
     },
     "metadata": {},
     "output_type": "display_data"
    }
   ],
   "source": [
    "laptop_brand = df.groupby('Brand', as_index=False)['Product_Name'].count().sort_values(by='Product_Name', ascending=False).head(10)\n",
    "brand_name = [i.capitalize() for i in laptop_brand['Brand']]\n",
    "myexplode = [0,0,0,0,0,0,0,0.1,0,0.2]\n",
    "plt.pie(laptop_brand['Product_Name'], labels=brand_name, explode=myexplode, autopct='%1.1f%%')\n",
    "plt.title('These Brand are available')\n",
    "plt.show()"
   ]
  },
  {
   "cell_type": "code",
   "execution_count": 24,
   "id": "d4326e84",
   "metadata": {},
   "outputs": [
    {
     "data": {
      "image/png": "[encoded data removed]",
      "text/plain": [
       "<Figure size 400x300 with 1 Axes>"
      ]
     },
     "metadata": {},
     "output_type": "display_data"
    }
   ],
   "source": [
    "ram_type = df.groupby('RAM', as_index=False)['Brand'].count().sort_values(by='Brand', ascending=False).head(4)\n",
    "plt.figure(figsize=(4,3))\n",
    "ax = sns.barplot(x='RAM', y='Brand', data=ram_type)\n",
    "plt.title('These RAM Laptops are available',color='g')\n",
    "plt.ylabel('Counts')\n",
    "for bars in ax.containers:\n",
    "    ax.bar_label(bars, padding=-2)"
   ]
  },
  {
   "cell_type": "code",
   "execution_count": 25,
   "id": "ecedcd1b",
   "metadata": {},
   "outputs": [
    {
     "name": "stdout",
     "output_type": "stream",
     "text": [
      "  Top 10 rating Brands\n",
      "+---------------------+\n",
      "| Brand     | Ratings |\n",
      "+---------------------+\n",
      "| APPLE     | 4.5     | \n",
      "| ASUS      | 4.3     | \n",
      "| Infinix   | 4.2     | \n",
      "| SAMSUNG   | 4.2     | \n",
      "| Primebook | 4.2     | \n",
      "| MSI       | 4.2     | \n",
      "| LG        | 4.2     | \n",
      "| realme    | 4.2     | \n",
      "| DELL      | 4.2     | \n",
      "| CHUWI     | 4.2     | \n",
      "+---------------------+\n"
     ]
    }
   ],
   "source": [
    "top_rating_brand = df.groupby(['Brand'], as_index=False)['Ratings'].mean().round(1).sort_values(by='Ratings', ascending=False).head(10)\n",
    "Mymodule.formating_DataFrame(top_rating_brand, title='Top 10 rating Brands')"
   ]
  },
  {
   "cell_type": "code",
   "execution_count": 26,
   "id": "8e287cbf",
   "metadata": {},
   "outputs": [
    {
     "name": "stdout",
     "output_type": "stream",
     "text": [
      "          Processor\n",
      "+---------------------------+\n",
      "| Processor_Brand | Ratings |\n",
      "+---------------------------+\n",
      "| AMD             | 4.3     | \n",
      "| Intel           | 4.2     | \n",
      "| Qualcomm        | 4.0     | \n",
      "| MediaTek        | 3.9     | \n",
      "+---------------------------+\n"
     ]
    }
   ],
   "source": [
    "top_rating_processor = df.groupby('Processor_Brand',as_index=False)['Ratings'].mean().round(1).sort_values(by='Ratings',ascending=False)\n",
    "processor_brands = ['AMD', 'Intel', 'MediaTek', 'Qualcomm']\n",
    "x = top_rating_processor[top_rating_processor['Processor_Brand'].isin(processor_brands)]\n",
    "Mymodule.formating_DataFrame(x, title='Processor')"
   ]
  },
  {
   "cell_type": "code",
   "execution_count": 27,
   "id": "bc064a1a",
   "metadata": {},
   "outputs": [
    {
     "data": {
      "image/png": "[encoded data removed]",
      "text/plain": [
       "<Figure size 400x300 with 1 Axes>"
      ]
     },
     "metadata": {},
     "output_type": "display_data"
    }
   ],
   "source": [
    "plt.figure(figsize=(4,3))\n",
    "sns.countplot(x='Processor_Brand', data=df[df['Processor_Brand'].isin(processor_brands)], palette='CMRmap')\n",
    "plt.title('Top Available Processor')\n",
    "plt.show()"
   ]
  },
  {
   "cell_type": "code",
   "execution_count": 28,
   "id": "d92f9330",
   "metadata": {},
   "outputs": [
    {
     "name": "stdout",
     "output_type": "stream",
     "text": [
      "                      Top 10 Products Available\n",
      "+------------------------------------------------------------------+\n",
      "| Product_Name                                            | Counts |\n",
      "+------------------------------------------------------------------+\n",
      "| Lenovo IdeaPad 3 Intel Core i3 11th Gen                 | 34     | \n",
      "| Lenovo IdeaPad Gaming 3 Intel Core i5 11th Gen          | 33     | \n",
      "| Lenovo IdeaPad 3 Core i3 12th Gen                       | 33     | \n",
      "| Lenovo Slim 3 Chromebook Touch Intel Celeron Dual Core  | 32     | \n",
      "| Lenovo IdeaPad 3 Core i3 11th Gen                       | 31     | \n",
      "| Infinix Y1 Plus Neo (2023) Celeron Quad Core 11th Gen   | 29     | \n",
      "| Lenovo Ideapad Gaming 3 AMD Ryzen 7 Octa Core 5800H     | 28     | \n",
      "| Infinix Y1 Plus Neo Intel Celeron Quad Core 11th Gen    | 26     | \n",
      "| Lenovo IdeaPad Slim 3 Intel Core i5 11th Gen            | 24     | \n",
      "| Infinix INBook Y1 Plus Intel Core i3 10th Gen           | 14     | \n",
      "+------------------------------------------------------------------+\n"
     ]
    }
   ],
   "source": [
    "top_10_product = df.groupby('Product_Name',as_index=False)['Brand'].count().sort_values(by='Brand', ascending=False).head(10)\n",
    "top_10_product['Counts'] = top_10_product['Brand']\n",
    "Mymodule.formating_DataFrame(top_10_product[['Product_Name','Counts']], title='Top 10 Products Available')"
   ]
  },
  {
   "cell_type": "code",
   "execution_count": 29,
   "id": "5607ef48",
   "metadata": {},
   "outputs": [
    {
     "name": "stdout",
     "output_type": "stream",
     "text": [
      "                                                Laptop less than 20000\n",
      "+--------------------------------------------------------------------------------------------------------------------+\n",
      "| Product_Name                                            | Selling_Price | Ratings | Processor_Brand | RAM  | Offer |\n",
      "+--------------------------------------------------------------------------------------------------------------------+\n",
      "| Lenovo Slim 3 Chromebook Touch Intel Celeron Dual Core  | 18990         | 3.7     | Intel           | 4 GB | 52%   | \n",
      "| Lenovo Athlon Dual Core 3050U                           | 18999         | 4.2     | AMD             | 4 GB | 45%   | \n",
      "| Lenovo Athlon Dual Core 3050U                           | 17490         | 3.6     | AMD             | 4 GB | 53%   | \n",
      "| Lenovo Athlon Dual Core                                 | 18049         | 4.2     | AMD             | 4 GB | 52%   | \n",
      "| HP Chromebook x360 Intel Celeron Dual Core              | 17990         | 4.2     | Intel           | 4 GB | 44%   | \n",
      "| Avita SATUS S111 Celeron Dual Core                      | 16490         | 3.7     | Intel           | 4 GB | 45%   | \n",
      "| HP Chromebook MediaTek Kompanio 500                     | 16990         | 3.8     | MediaTek        | 4 GB | 33%   | \n",
      "| HP Chromebook x360 Intel Celeron Quad Core              | 17990         | 3.7     | Intel           | 4 GB | 44%   | \n",
      "| Lenovo IdeaPad 3 Chromebook Intel Celeron Dual Core     | 12990         | 3.5     | Intel           | 4 GB | 57%   | \n",
      "| Avita SATUS S111 Celeron Dual Core                      | 16490         | 3.7     | Intel           | 4 GB | 45%   | \n",
      "+--------------------------------------------------------------------------------------------------------------------+\n"
     ]
    }
   ],
   "source": [
    "x = df[df['Selling_Price']<=20000]\n",
    "x = x[['Product_Name','Selling_Price','Ratings','Processor_Brand','RAM','Offer']].head(10)\n",
    "Mymodule.formating_DataFrame(x, title='Laptop less than 20000')"
   ]
  },
  {
   "cell_type": "code",
   "execution_count": 30,
   "id": "571bdaf3",
   "metadata": {},
   "outputs": [],
   "source": [
    "# Remove '%' character from the 'Offer' column\n",
    "df['Offer'] = df['Offer'].str.replace('%', '')\n",
    "\n",
    "# Convert 'Offer' column to integers\n",
    "df['Offer'] = df['Offer'].astype(int)\n",
    "\n",
    "# Find the row with the minimum offer\n",
    "min_offer_row = df[df['Offer'] == df['Offer'].min()]"
   ]
  },
  {
   "cell_type": "code",
   "execution_count": 31,
   "id": "f41ce2ea",
   "metadata": {},
   "outputs": [
    {
     "name": "stdout",
     "output_type": "stream",
     "text": [
      "                                      Minimun Offers of product the product\n",
      "+-------------------------------------------------------------------------------------------------------------+\n",
      "| Product_Name                           | RAM   | Offer | Selling_Price | Processor                          |\n",
      "+-------------------------------------------------------------------------------------------------------------+\n",
      "| Acer Predator (2023) Core i9 13th Gen  | 16 GB | 3     | 199990        | Intel Core i9 Processor (13th Gen) | \n",
      "| ASUS ExpertBook P2 Core i7 10th Gen    | 8 GB  | 3     | 90490         | Intel Core i7 Processor (10th Gen) | \n",
      "+-------------------------------------------------------------------------------------------------------------+\n"
     ]
    }
   ],
   "source": [
    "# Print the result\n",
    "Mymodule.formating_DataFrame(min_offer_row[['Product_Name','RAM','Offer','Selling_Price','Processor']], title='Minimun Offers of product the product')"
   ]
  },
  {
   "cell_type": "code",
   "execution_count": 32,
   "id": "e9068ead",
   "metadata": {},
   "outputs": [
    {
     "name": "stdout",
     "output_type": "stream",
     "text": [
      "                              Maximum Offers of the product\n",
      "+-------------------------------------------------------------------------------------+\n",
      "| Product_Name                                         | RAM  | Offer | Selling_Price |\n",
      "+-------------------------------------------------------------------------------------+\n",
      "| Lenovo IdeaPad 3 Chromebook Intel Celeron Dual Core  | 4 GB | 57    | 12990         | \n",
      "+-------------------------------------------------------------------------------------+\n"
     ]
    }
   ],
   "source": [
    "# Find the row with the maximum offer\n",
    "max_offer_row = df[df['Offer'] == df['Offer'].max()]\n",
    "\n",
    "# Print the result\n",
    "Mymodule.formating_DataFrame(max_offer_row[['Product_Name','RAM','Offer','Selling_Price']], title='Maximum Offers of the product')"
   ]
  },
  {
   "cell_type": "code",
   "execution_count": 33,
   "id": "2d24f799",
   "metadata": {},
   "outputs": [
    {
     "name": "stdout",
     "output_type": "stream",
     "text": [
      "                          Minimun price of Laptops\n",
      "+---------------------------------------------------------------------------+\n",
      "| Product_Name                                              | Selling_Price |\n",
      "+---------------------------------------------------------------------------+\n",
      "| Lenovo IdeaPad 3 Chromebook Intel Celeron Dual Core       | 12990         | \n",
      "| Primebook 4G Android Based MediaTek MT8788                | 12990         | \n",
      "| Primebook 4G enabled Android based MediaTek Kompanio 500  | 13990         | \n",
      "| ASUS EeeBook 12 Celeron Dual Core                         | 14990         | \n",
      "| Avita SATUS S111 Celeron Dual Core                        | 16490         | \n",
      "| HP Chromebook MediaTek Kompanio 500                       | 16990         | \n",
      "| Lenovo Athlon Dual Core 3050U                             | 17490         | \n",
      "| Lenovo Athlon Dual Core                                   | 17990         | \n",
      "| HP Chromebook x360 Intel Celeron Dual Core                | 17990         | \n",
      "| HP Chromebook x360 Intel Celeron Quad Core                | 17990         | \n",
      "+---------------------------------------------------------------------------+\n"
     ]
    }
   ],
   "source": [
    "min_price_laptop = df.groupby('Product_Name', as_index=False)['Selling_Price'].min().sort_values(by='Selling_Price', ascending=True).head(10)\n",
    "Mymodule.formating_DataFrame(min_price_laptop, title='Minimun price of Laptops')"
   ]
  },
  {
   "cell_type": "code",
   "execution_count": 34,
   "id": "e488928c",
   "metadata": {
    "scrolled": false
   },
   "outputs": [
    {
     "name": "stdout",
     "output_type": "stream",
     "text": [
      "                                              Maximum price of Laptops\n",
      "+-----------------------------------------------------------------------------------------------------------------+\n",
      "| Product_Name                                                                                    | Selling_Price |\n",
      "+-----------------------------------------------------------------------------------------------------------------+\n",
      "| MSI Core i9 13th Gen                                                                            | 489990        | \n",
      "| MSI GT77 Titan Core i9 12th Gen                                                                 | 450000        | \n",
      "| ASUS ROG Zephyrus Duo 16 with 90WHr Battery Ryzen 9 16 Core 7945HX                              | 429990        | \n",
      "| ASUS ROG Strix Scar 17 SE (2022) with 90Whr Battery Core i9 12th Gen                            | 399990        | \n",
      "| ASUS ROG Zephyrus Duo 16 (2022) Dual Screen Laptop with 90Whr Battery Ryzen 9 Octa Core 6900HX  | 391990        | \n",
      "| DELL Alienware Core i9 12th Gen                                                                 | 334990        | \n",
      "| ASUS Zenbook 17 Fold OLED Intel EVO Core i7 12th Gen                                            | 329990        | \n",
      "| ALIENWARE Core i9 10th Gen                                                                      | 325990        | \n",
      "| APPLE 2021 Macbook Pro M1 Max                                                                   | 309490        | \n",
      "| ASUS ROG Zephyrus M16 (2023) with 90WHr Battery Intel H                                         | 299990        | \n",
      "+-----------------------------------------------------------------------------------------------------------------+\n"
     ]
    }
   ],
   "source": [
    "min_price_laptop = df.groupby('Product_Name', as_index=False)['Selling_Price'].max().sort_values(by='Selling_Price', ascending=False).head(10)\n",
    "Mymodule.formating_DataFrame(min_price_laptop, title='Maximum price of Laptops')"
   ]
  },
  {
   "cell_type": "code",
   "execution_count": 35,
   "id": "d657259e",
   "metadata": {},
   "outputs": [
    {
     "name": "stdout",
     "output_type": "stream",
     "text": [
      "Hello Neeraj Pandit have a good day.\n"
     ]
    }
   ],
   "source": [
    "Mymodule.greeting('Neeraj Pandit')"
   ]
  }
 ],
 "metadata": {
  "kernelspec": {
   "display_name": "Python 3 (ipykernel)",
   "language": "python",
   "name": "python3"
  },
  "language_info": {
   "codemirror_mode": {
    "name": "ipython",
    "version": 3
   },
   "file_extension": ".py",
   "mimetype": "text/x-python",
   "name": "python",
   "nbconvert_exporter": "python",
   "pygments_lexer": "ipython3",
   "version": "3.9.13"
  }
 },
 "nbformat": 4,
 "nbformat_minor": 5
}
